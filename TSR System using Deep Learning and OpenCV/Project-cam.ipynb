{
 "cells": [
  {
   "cell_type": "code",
   "execution_count": 1,
   "id": "c2f7d454",
   "metadata": {},
   "outputs": [],
   "source": [
    "import numpy as np\n",
    "import cv2\n",
    "import pickle"
   ]
  },
  {
   "cell_type": "code",
   "execution_count": 2,
   "id": "78973633",
   "metadata": {},
   "outputs": [],
   "source": [
    "frameWidth = 640\n",
    "frameHeight = 480\n",
    "brightness = 180\n",
    "threshold = 0.90\n",
    "font = cv2.FONT_HERSHEY_SIMPLEX"
   ]
  },
  {
   "cell_type": "code",
   "execution_count": 3,
   "id": "c0cb74bc",
   "metadata": {},
   "outputs": [
    {
     "data": {
      "text/plain": [
       "False"
      ]
     },
     "execution_count": 3,
     "metadata": {},
     "output_type": "execute_result"
    }
   ],
   "source": [
    "#Setup the video camera\n",
    "cap = cv2.VideoCapture(0)\n",
    "cap.set(3, frameWidth)\n",
    "cap.set(4, frameHeight)\n",
    "cap.set(10, brightness)"
   ]
  },
  {
   "cell_type": "code",
   "execution_count": 4,
   "id": "3d9db45e",
   "metadata": {},
   "outputs": [],
   "source": [
    "from tensorflow import keras\n",
    "my_model = keras.models.load_model('my_model')\n",
    "my_model.load_weights(\"weights.h5\")"
   ]
  },
  {
   "cell_type": "code",
   "execution_count": 5,
   "id": "60ead550",
   "metadata": {},
   "outputs": [],
   "source": [
    "def grayscale(img):\n",
    "    img = cv2.cvtColor(img,cv2.COLOR_BGR2GRAY)\n",
    "    return img\n",
    "\n",
    "def equalize(img):\n",
    "    img = cv2.equalizeHist(img)\n",
    "    return img\n",
    "\n",
    "def preprocessing(img):\n",
    "    img = grayscale(img)\n",
    "    img = equalize(img)\n",
    "    img = img/255\n",
    "    return img\n",
    "\n",
    "def getClassName (classNo):\n",
    "  if classNo == 0: return 'Speed limit (20km/hr)'\n",
    "  elif classNo == 1: return 'Speed limit (30km/h)'\n",
    "  elif classNo == 2: return 'Speed limit (50km/h)'\n",
    "  elif classNo == 3: return 'Speed limit (60km/h)'\n",
    "  elif classNo == 4: return 'Speed limit (70km/h)'\n",
    "  elif classNo == 5: return 'Speed limit (80km/h)'\n",
    "  elif classNo == 6: return 'End of speed limit (80km/h)'\n",
    "  elif classNo == 7: return 'Speed limit (100km/h)'\n",
    "  elif classNo == 8: return 'Speed limit (120km/h)'\n",
    "  elif classNo == 9: return 'No passing'\n",
    "  elif classNo == 10: return 'No passing for vehicles over 3.5 metric tons'\n",
    "  elif classNo == 11: return 'Right-of-way at the next intersection'\n",
    "  elif classNo == 12: return 'Priority road'\n",
    "  elif classNo == 13: return 'Yield'\n",
    "  elif classNo == 14: return 'Stop'\n",
    "  elif classNo == 15: return 'No vehicles'\n",
    "  elif classNo == 16: return 'Vehicles > 3.5 tons prohibited'\n",
    "  elif classNo == 17: return 'No entry'\n",
    "  elif classNo == 18: return 'General caution'\n",
    "  elif classNo == 19: return 'General caution'\n",
    "  elif classNo == 20: return 'Dangerous curve right'\n",
    "  elif classNo == 21: return 'Double curve'\n",
    "  elif classNo == 22: return 'Bumpy road'\n",
    "  elif classNo == 23: return 'Slippery road'\n",
    "  elif classNo == 24: return 'Road narrows on the right'\n",
    "  elif classNo == 25: return 'Road work'\n",
    "  elif classNo == 26: return 'Traffic signals'\n",
    "  elif classNo == 27: return 'Pedestrians'\n",
    "  elif classNo == 28: return 'Children crossing'\n",
    "  elif classNo == 29: return 'Bicycles crossing'\n",
    "  elif classNo == 30: return 'Beware of ice/snow'\n",
    "  elif classNo == 31: return 'Wild animals crossing'\n",
    "  elif classNo == 32: return 'End speed + passing limits'\n",
    "  elif classNo == 33: return 'Turn right ahead'\n",
    "  elif classNo == 34: return 'Turn left ahead'\n",
    "  elif classNo == 35: return 'Ahead only'\n",
    "  elif classNo == 36: return 'Go straight or right'\n",
    "  elif classNo == 37: return 'Go straight or left'\n",
    "  elif classNo == 38: return 'Keep right'\n",
    "  elif classNo == 39: return 'Keep left'\n",
    "  elif classNo == 40: return 'Roundabout mandatory'\n",
    "  elif classNo == 41: return 'End of no passing'\n",
    "  elif classNo == 42: return 'End no passing vehicle with a weight greater than 3.5 tons'"
   ]
  },
  {
   "cell_type": "code",
   "execution_count": null,
   "id": "c3c5fcbc",
   "metadata": {},
   "outputs": [],
   "source": [
    "while True:\n",
    "    \n",
    "        #Read Image\n",
    "        success, imgOriginal = cap.read()\n",
    "        \n",
    "        #Process Image\n",
    "        img = np.asarray(imgOriginal)\n",
    "        img = cv2.resize(img,(32,32))\n",
    "        img = preprocessing(img)\n",
    "        cv2.imshow(\"Processed Image\", img)\n",
    "        img = img.reshape(1,32,32,1)\n",
    "        cv2.putText(imgOriginal, \"TRAFFIC SIGN: \", (20,35), font, 0.75, (0,0,255), 2, cv2.LINE_AA)\n",
    "        cv2.putText(imgOriginal, \"PROBABILITY \", (20,75), font, 0.75, (0,0,255), 2, cv2.LINE_AA)\n",
    "        \n",
    "        #Predict Image\n",
    "        predictions = my_model.predict(img)\n",
    "        classIndex = np.argmax(predictions,axis=1)\n",
    "        probabilityValue = np.amax(predictions)\n",
    "        \n",
    "        if probabilityValue > threshold:\n",
    "            #print(getClassName(classIndex))\n",
    "            cv2.putText(imgOriginal,str(classIndex)+\" \"+str(getClassName(classIndex)),(120,35),font,0.75,(0,0,255), 2, cv2.LINE_AA)\n",
    "            cv2.putText(imgOriginal, str(round(probabilityValue*100,2))+\"%\",(180,75),font,0.75,(255,0,0), 2, cv2.LINE_AA)\n",
    "        cv2.imshow(\"Result\", imgOriginal)\n",
    "        \n",
    "        if cv2.waitKey(1) and 0xFF == ord('q'):\n",
    "            break\n"
   ]
  },
  {
   "cell_type": "code",
   "execution_count": null,
   "id": "92e02a76",
   "metadata": {},
   "outputs": [],
   "source": []
  }
 ],
 "metadata": {
  "kernelspec": {
   "display_name": "Python 3 (ipykernel)",
   "language": "python",
   "name": "python3"
  },
  "language_info": {
   "codemirror_mode": {
    "name": "ipython",
    "version": 3
   },
   "file_extension": ".py",
   "mimetype": "text/x-python",
   "name": "python",
   "nbconvert_exporter": "python",
   "pygments_lexer": "ipython3",
   "version": "3.10.6"
  }
 },
 "nbformat": 4,
 "nbformat_minor": 5
}
